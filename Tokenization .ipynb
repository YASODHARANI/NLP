{
 "cells": [
  {
   "cell_type": "code",
   "execution_count": 2,
   "id": "628a5ed0",
   "metadata": {},
   "outputs": [],
   "source": [
    "import spacy"
   ]
  },
  {
   "cell_type": "code",
   "execution_count": 3,
   "id": "35e09095",
   "metadata": {},
   "outputs": [
    {
     "name": "stdout",
     "output_type": "stream",
     "text": [
      "It\n",
      "was\n",
      "established\n",
      "in\n",
      "1992\n",
      "and\n",
      "is\n",
      "administered\n",
      "by\n",
      "the\n",
      "Dr.\n",
      "Ambedkar\n",
      "foundation\n",
      "to\n",
      "people\n",
      "or\n",
      "organizations\n",
      "for\n",
      "their\n",
      "outstanding\n",
      "work\n",
      ".\n",
      "The\n",
      "award\n",
      "symbolizes\n",
      "the\n",
      "vision\n",
      "of\n",
      "Babasaheb\n",
      "Ambedkar\n",
      "for\n",
      "social\n",
      "understanding\n",
      "and\n",
      "national\n",
      "integrity\n",
      ".\n",
      "The\n",
      "money\n",
      "constituent\n",
      "of\n",
      "this\n",
      "award\n",
      "is\n",
      "1\n",
      "million\n",
      "(\n",
      "10\n",
      "Lakhs\n",
      ")\n",
      "rupees\n",
      "and\n",
      "a\n",
      "citation\n",
      ".\n",
      "$\n"
     ]
    }
   ],
   "source": [
    "nlp = spacy.blank(\"en\")\n",
    "doc = nlp(\"It was established in 1992 and is administered by the Dr. Ambedkar foundation to people or organizations for their outstanding work. The award symbolizes the vision of Babasaheb Ambedkar for social understanding and national integrity. The money constituent of this award is 1 million (10 Lakhs) rupees and a citation. $\")\n",
    "for token in doc:\n",
    "    print(token)"
   ]
  },
  {
   "cell_type": "code",
   "execution_count": 4,
   "id": "8f657c94",
   "metadata": {},
   "outputs": [
    {
     "data": {
      "text/plain": [
       "."
      ]
     },
     "execution_count": 4,
     "metadata": {},
     "output_type": "execute_result"
    }
   ],
   "source": [
    "doc[-2]"
   ]
  },
  {
   "cell_type": "code",
   "execution_count": 5,
   "id": "8532fb3c",
   "metadata": {},
   "outputs": [
    {
     "data": {
      "text/plain": [
       "spacy.lang.en.English"
      ]
     },
     "execution_count": 5,
     "metadata": {},
     "output_type": "execute_result"
    }
   ],
   "source": [
    "type(nlp)"
   ]
  },
  {
   "cell_type": "code",
   "execution_count": 6,
   "id": "fb8ee512",
   "metadata": {},
   "outputs": [
    {
     "data": {
      "text/plain": [
       "spacy.tokens.doc.Doc"
      ]
     },
     "execution_count": 6,
     "metadata": {},
     "output_type": "execute_result"
    }
   ],
   "source": [
    "type(doc)"
   ]
  },
  {
   "cell_type": "code",
   "execution_count": 7,
   "id": "a4cc83ef",
   "metadata": {},
   "outputs": [
    {
     "data": {
      "text/plain": [
       "spacy.tokens.token.Token"
      ]
     },
     "execution_count": 7,
     "metadata": {},
     "output_type": "execute_result"
    }
   ],
   "source": [
    "type(token)"
   ]
  },
  {
   "cell_type": "code",
   "execution_count": 8,
   "id": "7ee8fd9c",
   "metadata": {},
   "outputs": [
    {
     "data": {
      "text/plain": [
       "spacy.tokens.span.Span"
      ]
     },
     "execution_count": 8,
     "metadata": {},
     "output_type": "execute_result"
    }
   ],
   "source": [
    "span = doc[1:5]\n",
    "type(span)"
   ]
  },
  {
   "cell_type": "code",
   "execution_count": 9,
   "id": "3eebaf2d",
   "metadata": {},
   "outputs": [
    {
     "data": {
      "text/plain": [
       "['_',\n",
       " '__bytes__',\n",
       " '__class__',\n",
       " '__delattr__',\n",
       " '__dir__',\n",
       " '__doc__',\n",
       " '__eq__',\n",
       " '__format__',\n",
       " '__ge__',\n",
       " '__getattribute__',\n",
       " '__gt__',\n",
       " '__hash__',\n",
       " '__init__',\n",
       " '__init_subclass__',\n",
       " '__le__',\n",
       " '__len__',\n",
       " '__lt__',\n",
       " '__ne__',\n",
       " '__new__',\n",
       " '__pyx_vtable__',\n",
       " '__reduce__',\n",
       " '__reduce_ex__',\n",
       " '__repr__',\n",
       " '__setattr__',\n",
       " '__sizeof__',\n",
       " '__str__',\n",
       " '__subclasshook__',\n",
       " '__unicode__',\n",
       " 'ancestors',\n",
       " 'check_flag',\n",
       " 'children',\n",
       " 'cluster',\n",
       " 'conjuncts',\n",
       " 'dep',\n",
       " 'dep_',\n",
       " 'doc',\n",
       " 'ent_id',\n",
       " 'ent_id_',\n",
       " 'ent_iob',\n",
       " 'ent_iob_',\n",
       " 'ent_kb_id',\n",
       " 'ent_kb_id_',\n",
       " 'ent_type',\n",
       " 'ent_type_',\n",
       " 'get_extension',\n",
       " 'has_dep',\n",
       " 'has_extension',\n",
       " 'has_head',\n",
       " 'has_morph',\n",
       " 'has_vector',\n",
       " 'head',\n",
       " 'i',\n",
       " 'idx',\n",
       " 'iob_strings',\n",
       " 'is_alpha',\n",
       " 'is_ancestor',\n",
       " 'is_ascii',\n",
       " 'is_bracket',\n",
       " 'is_currency',\n",
       " 'is_digit',\n",
       " 'is_left_punct',\n",
       " 'is_lower',\n",
       " 'is_oov',\n",
       " 'is_punct',\n",
       " 'is_quote',\n",
       " 'is_right_punct',\n",
       " 'is_sent_end',\n",
       " 'is_sent_start',\n",
       " 'is_space',\n",
       " 'is_stop',\n",
       " 'is_title',\n",
       " 'is_upper',\n",
       " 'lang',\n",
       " 'lang_',\n",
       " 'left_edge',\n",
       " 'lefts',\n",
       " 'lemma',\n",
       " 'lemma_',\n",
       " 'lex',\n",
       " 'lex_id',\n",
       " 'like_email',\n",
       " 'like_num',\n",
       " 'like_url',\n",
       " 'lower',\n",
       " 'lower_',\n",
       " 'morph',\n",
       " 'n_lefts',\n",
       " 'n_rights',\n",
       " 'nbor',\n",
       " 'norm',\n",
       " 'norm_',\n",
       " 'orth',\n",
       " 'orth_',\n",
       " 'pos',\n",
       " 'pos_',\n",
       " 'prefix',\n",
       " 'prefix_',\n",
       " 'prob',\n",
       " 'rank',\n",
       " 'remove_extension',\n",
       " 'right_edge',\n",
       " 'rights',\n",
       " 'sent',\n",
       " 'sent_start',\n",
       " 'sentiment',\n",
       " 'set_extension',\n",
       " 'set_morph',\n",
       " 'shape',\n",
       " 'shape_',\n",
       " 'similarity',\n",
       " 'subtree',\n",
       " 'suffix',\n",
       " 'suffix_',\n",
       " 'tag',\n",
       " 'tag_',\n",
       " 'tensor',\n",
       " 'text',\n",
       " 'text_with_ws',\n",
       " 'vector',\n",
       " 'vector_norm',\n",
       " 'vocab',\n",
       " 'whitespace_']"
      ]
     },
     "execution_count": 9,
     "metadata": {},
     "output_type": "execute_result"
    }
   ],
   "source": [
    "dir(token)    # all methods of calss"
   ]
  },
  {
   "cell_type": "code",
   "execution_count": 10,
   "id": "52b363b3",
   "metadata": {},
   "outputs": [
    {
     "data": {
      "text/plain": [
       "'1992'"
      ]
     },
     "execution_count": 10,
     "metadata": {},
     "output_type": "execute_result"
    }
   ],
   "source": [
    "token2 = doc[4]\n",
    "token2.text"
   ]
  },
  {
   "cell_type": "code",
   "execution_count": 11,
   "id": "eab605aa",
   "metadata": {},
   "outputs": [
    {
     "data": {
      "text/plain": [
       "True"
      ]
     },
     "execution_count": 11,
     "metadata": {},
     "output_type": "execute_result"
    }
   ],
   "source": [
    "token2.like_num"
   ]
  },
  {
   "cell_type": "code",
   "execution_count": 12,
   "id": "3e5b807d",
   "metadata": {},
   "outputs": [
    {
     "data": {
      "text/plain": [
       "'$'"
      ]
     },
     "execution_count": 12,
     "metadata": {},
     "output_type": "execute_result"
    }
   ],
   "source": [
    "token3 = doc[-1]\n",
    "token3.text"
   ]
  },
  {
   "cell_type": "code",
   "execution_count": 13,
   "id": "109ba3ca",
   "metadata": {},
   "outputs": [
    {
     "data": {
      "text/plain": [
       "True"
      ]
     },
     "execution_count": 13,
     "metadata": {},
     "output_type": "execute_result"
    }
   ],
   "source": [
    "token3.is_currency"
   ]
  },
  {
   "cell_type": "code",
   "execution_count": 14,
   "id": "edaf05e2",
   "metadata": {},
   "outputs": [
    {
     "name": "stdout",
     "output_type": "stream",
     "text": [
      "It ==> index:  0 is_alpha: True is_punct: False is_num: False is_currency: False\n",
      "was ==> index:  1 is_alpha: True is_punct: False is_num: False is_currency: False\n",
      "established ==> index:  2 is_alpha: True is_punct: False is_num: False is_currency: False\n",
      "in ==> index:  3 is_alpha: True is_punct: False is_num: False is_currency: False\n",
      "1992 ==> index:  4 is_alpha: False is_punct: False is_num: True is_currency: False\n",
      "and ==> index:  5 is_alpha: True is_punct: False is_num: False is_currency: False\n",
      "is ==> index:  6 is_alpha: True is_punct: False is_num: False is_currency: False\n",
      "administered ==> index:  7 is_alpha: True is_punct: False is_num: False is_currency: False\n",
      "by ==> index:  8 is_alpha: True is_punct: False is_num: False is_currency: False\n",
      "the ==> index:  9 is_alpha: True is_punct: False is_num: False is_currency: False\n",
      "Dr. ==> index:  10 is_alpha: False is_punct: False is_num: False is_currency: False\n",
      "Ambedkar ==> index:  11 is_alpha: True is_punct: False is_num: False is_currency: False\n",
      "foundation ==> index:  12 is_alpha: True is_punct: False is_num: False is_currency: False\n",
      "to ==> index:  13 is_alpha: True is_punct: False is_num: False is_currency: False\n",
      "people ==> index:  14 is_alpha: True is_punct: False is_num: False is_currency: False\n",
      "or ==> index:  15 is_alpha: True is_punct: False is_num: False is_currency: False\n",
      "organizations ==> index:  16 is_alpha: True is_punct: False is_num: False is_currency: False\n",
      "for ==> index:  17 is_alpha: True is_punct: False is_num: False is_currency: False\n",
      "their ==> index:  18 is_alpha: True is_punct: False is_num: False is_currency: False\n",
      "outstanding ==> index:  19 is_alpha: True is_punct: False is_num: False is_currency: False\n",
      "work ==> index:  20 is_alpha: True is_punct: False is_num: False is_currency: False\n",
      ". ==> index:  21 is_alpha: False is_punct: True is_num: False is_currency: False\n",
      "The ==> index:  22 is_alpha: True is_punct: False is_num: False is_currency: False\n",
      "award ==> index:  23 is_alpha: True is_punct: False is_num: False is_currency: False\n",
      "symbolizes ==> index:  24 is_alpha: True is_punct: False is_num: False is_currency: False\n",
      "the ==> index:  25 is_alpha: True is_punct: False is_num: False is_currency: False\n",
      "vision ==> index:  26 is_alpha: True is_punct: False is_num: False is_currency: False\n",
      "of ==> index:  27 is_alpha: True is_punct: False is_num: False is_currency: False\n",
      "Babasaheb ==> index:  28 is_alpha: True is_punct: False is_num: False is_currency: False\n",
      "Ambedkar ==> index:  29 is_alpha: True is_punct: False is_num: False is_currency: False\n",
      "for ==> index:  30 is_alpha: True is_punct: False is_num: False is_currency: False\n",
      "social ==> index:  31 is_alpha: True is_punct: False is_num: False is_currency: False\n",
      "understanding ==> index:  32 is_alpha: True is_punct: False is_num: False is_currency: False\n",
      "and ==> index:  33 is_alpha: True is_punct: False is_num: False is_currency: False\n",
      "national ==> index:  34 is_alpha: True is_punct: False is_num: False is_currency: False\n",
      "integrity ==> index:  35 is_alpha: True is_punct: False is_num: False is_currency: False\n",
      ". ==> index:  36 is_alpha: False is_punct: True is_num: False is_currency: False\n",
      "The ==> index:  37 is_alpha: True is_punct: False is_num: False is_currency: False\n",
      "money ==> index:  38 is_alpha: True is_punct: False is_num: False is_currency: False\n",
      "constituent ==> index:  39 is_alpha: True is_punct: False is_num: False is_currency: False\n",
      "of ==> index:  40 is_alpha: True is_punct: False is_num: False is_currency: False\n",
      "this ==> index:  41 is_alpha: True is_punct: False is_num: False is_currency: False\n",
      "award ==> index:  42 is_alpha: True is_punct: False is_num: False is_currency: False\n",
      "is ==> index:  43 is_alpha: True is_punct: False is_num: False is_currency: False\n",
      "1 ==> index:  44 is_alpha: False is_punct: False is_num: True is_currency: False\n",
      "million ==> index:  45 is_alpha: True is_punct: False is_num: True is_currency: False\n",
      "( ==> index:  46 is_alpha: False is_punct: True is_num: False is_currency: False\n",
      "10 ==> index:  47 is_alpha: False is_punct: False is_num: True is_currency: False\n",
      "Lakhs ==> index:  48 is_alpha: True is_punct: False is_num: False is_currency: False\n",
      ") ==> index:  49 is_alpha: False is_punct: True is_num: False is_currency: False\n",
      "rupees ==> index:  50 is_alpha: True is_punct: False is_num: False is_currency: False\n",
      "and ==> index:  51 is_alpha: True is_punct: False is_num: False is_currency: False\n",
      "a ==> index:  52 is_alpha: True is_punct: False is_num: False is_currency: False\n",
      "citation ==> index:  53 is_alpha: True is_punct: False is_num: False is_currency: False\n",
      ". ==> index:  54 is_alpha: False is_punct: True is_num: False is_currency: False\n",
      "$ ==> index:  55 is_alpha: False is_punct: False is_num: False is_currency: True\n"
     ]
    }
   ],
   "source": [
    "\n",
    "for token in doc:\n",
    "    print(token, \"==>\",\"index: \", token.i,\n",
    "         \"is_alpha:\", token.is_alpha,\n",
    "         \"is_punct:\", token.is_punct,\n",
    "         \"is_num:\", token.like_num,\n",
    "         \"is_currency:\",token.is_currency,)"
   ]
  },
  {
   "cell_type": "code",
   "execution_count": null,
   "id": "656f556c",
   "metadata": {},
   "outputs": [],
   "source": [
    "with open(\"student.text\") as f:\n",
    "    text = f.readlines()\n",
    "text"
   ]
  },
  {
   "cell_type": "code",
   "execution_count": null,
   "id": "0ab830fc",
   "metadata": {},
   "outputs": [],
   "source": [
    "text = \" \".join(text)\n",
    "text"
   ]
  },
  {
   "cell_type": "code",
   "execution_count": null,
   "id": "369a6c63",
   "metadata": {},
   "outputs": [],
   "source": [
    "doc = nlp(text)\n",
    "emails= []\n",
    "for token in doc:\n",
    "    if token.like_email:\n",
    "        emails.append(token.text)\n",
    "emails        "
   ]
  },
  {
   "cell_type": "code",
   "execution_count": 15,
   "id": "1d4f2975",
   "metadata": {},
   "outputs": [
    {
     "name": "stdout",
     "output_type": "stream",
     "text": [
      "  False False\n",
      "उनकी False False\n",
      "स्मृति False False\n",
      "में False False\n",
      "स्थापित False False\n",
      "' False False\n",
      "डॉ॰ False False\n",
      "आम्बेडकर False False\n",
      "प्रतिष्ठान False False\n",
      "' False False\n",
      "द्वारा False False\n",
      "उनके False False\n",
      "जन्म False False\n",
      "शताब्धि False False\n",
      "वर्ष False False\n",
      "१९९२ True False\n",
      "से False False\n",
      "' False False\n",
      "डॉ॰ False False\n",
      "आम्बेडकर False False\n",
      "राष्ट्रीय False False\n",
      "पुरस्कार False False\n",
      ", False False\n",
      "प्रति False False\n",
      "वर्ष False False\n",
      "किसी False False\n",
      "ऐसे False False\n",
      "व्यक्ति False False\n",
      "या False False\n",
      "संस्था False False\n",
      "को False False\n",
      "प्रदान False False\n",
      "किया False False\n",
      "जाता False False\n",
      "है False False\n",
      "जिसने False False\n",
      "समाज False False\n",
      "में False False\n",
      "सामाजिक False False\n",
      "सदभाव False False\n",
      "निर्माण False False\n",
      "करने False False\n",
      "के False False\n",
      "लिए False False\n",
      "एवं False False\n",
      "शोषित False False\n",
      ", False False\n",
      "पीडित False False\n",
      "आणि False False\n",
      "पिछडे False False\n",
      "वर्गों False False\n",
      "के False False\n",
      "लिये False False\n",
      "अभूतपुर्व False False\n",
      "योगदान False False\n",
      "के False False\n",
      "कार्य False False\n",
      "में False False\n",
      "महत्वपूर्ण False False\n",
      "योगदान False False\n",
      "किया False False\n",
      "हो False False\n",
      "। False False\n",
      "इस False False\n",
      "पुरस्कार False False\n",
      "के False False\n",
      "अंतर्गत False False\n",
      "१० True False\n",
      "लाख True False\n",
      "रुपए False False\n",
      "नकद False False\n",
      ", False False\n",
      "एक True False\n",
      "ट्रॉफी False False\n",
      "और False False\n",
      "प्रशस्तिपत्र False False\n",
      "प्रदान False False\n",
      "किया False False\n",
      "जाता False False\n",
      "है False False\n",
      "। False False\n",
      "2 True False\n"
     ]
    }
   ],
   "source": [
    "nlp = spacy.blank(\"hi\")\n",
    "doc = nlp(\" उनकी स्मृति में स्थापित 'डॉ॰ आम्बेडकर प्रतिष्ठान' द्वारा उनके जन्म शताब्धि वर्ष १९९२ से 'डॉ॰ आम्बेडकर राष्ट्रीय पुरस्कार, प्रति वर्ष किसी ऐसे व्यक्ति या संस्था को प्रदान किया जाता है जिसने समाज में सामाजिक सदभाव निर्माण करने के लिए एवं शोषित, पीडित आणि पिछडे वर्गों के लिये अभूतपुर्व योगदान के कार्य में महत्वपूर्ण योगदान किया हो। इस पुरस्कार के अंतर्गत १० लाख रुपए नकद, एक ट्रॉफी और प्रशस्तिपत्र प्रदान किया जाता है। 2\")\n",
    "for token in doc:\n",
    "    print(token,token.like_num,token.is_currency)"
   ]
  },
  {
   "cell_type": "code",
   "execution_count": 16,
   "id": "91418875",
   "metadata": {},
   "outputs": [
    {
     "data": {
      "text/plain": [
       "['gimme', 'double', 'chees', 'extra', 'large', 'healthy', 'pizza']"
      ]
     },
     "execution_count": 16,
     "metadata": {},
     "output_type": "execute_result"
    }
   ],
   "source": [
    "doc = nlp(\"gimme double chees extra large healthy pizza\")\n",
    "tokens = [token.text for token in doc]\n",
    "tokens"
   ]
  },
  {
   "cell_type": "code",
   "execution_count": 17,
   "id": "492e09fc",
   "metadata": {},
   "outputs": [
    {
     "data": {
      "text/plain": [
       "['gim', 'me', 'double', 'chees', 'extra', 'large', 'healthy', 'pizza']"
      ]
     },
     "execution_count": 17,
     "metadata": {},
     "output_type": "execute_result"
    }
   ],
   "source": [
    "from spacy.symbols import ORTH\n",
    "nlp.tokenizer.add_special_case(\"gimme\", [\n",
    "    {ORTH : \"gim\"},\n",
    "    {ORTH : \"me\"}\n",
    "])\n",
    "doc = nlp(\"gimme double chees extra large healthy pizza\")\n",
    "tokens = [token.text for token in doc]\n",
    "tokens\n"
   ]
  },
  {
   "cell_type": "code",
   "execution_count": 18,
   "id": "4f401155",
   "metadata": {},
   "outputs": [
    {
     "data": {
      "text/plain": [
       "<spacy.pipeline.sentencizer.Sentencizer at 0x1eaaf148980>"
      ]
     },
     "execution_count": 18,
     "metadata": {},
     "output_type": "execute_result"
    }
   ],
   "source": [
    "nlp.add_pipe(\"sentencizer\")"
   ]
  },
  {
   "cell_type": "code",
   "execution_count": 19,
   "id": "9f2fb03d",
   "metadata": {},
   "outputs": [
    {
     "data": {
      "text/plain": [
       "['sentencizer']"
      ]
     },
     "execution_count": 19,
     "metadata": {},
     "output_type": "execute_result"
    }
   ],
   "source": [
    "nlp.pipe_names"
   ]
  },
  {
   "cell_type": "code",
   "execution_count": 20,
   "id": "5e51ee6d",
   "metadata": {},
   "outputs": [
    {
     "name": "stdout",
     "output_type": "stream",
     "text": [
      "The Bidhan Chandra Roy Award was instituted in 1962 in memory of Dr.\n",
      "B. C. Roy by the Medical Council of India.\n",
      "It is presented by the President of India in New Delhi every year on July 1, National Doctors' Day.\n",
      "It is also the highest honour that can be achieved by a doctor in India.\n"
     ]
    }
   ],
   "source": [
    "doc = nlp(\"The Bidhan Chandra Roy Award was instituted in 1962 in memory of Dr. B. C. Roy by the Medical Council of India. It is presented by the President of India in New Delhi every year on July 1, National Doctors' Day. It is also the highest honour that can be achieved by a doctor in India.\")\n",
    "for sentence in doc.sents:\n",
    "    print(sentence)"
   ]
  },
  {
   "cell_type": "code",
   "execution_count": null,
   "id": "e4bda785",
   "metadata": {},
   "outputs": [],
   "source": []
  },
  {
   "cell_type": "code",
   "execution_count": null,
   "id": "b513fe4b",
   "metadata": {},
   "outputs": [],
   "source": []
  }
 ],
 "metadata": {
  "kernelspec": {
   "display_name": "Python 3 (ipykernel)",
   "language": "python",
   "name": "python3"
  },
  "language_info": {
   "codemirror_mode": {
    "name": "ipython",
    "version": 3
   },
   "file_extension": ".py",
   "mimetype": "text/x-python",
   "name": "python",
   "nbconvert_exporter": "python",
   "pygments_lexer": "ipython3",
   "version": "3.9.12"
  }
 },
 "nbformat": 4,
 "nbformat_minor": 5
}
