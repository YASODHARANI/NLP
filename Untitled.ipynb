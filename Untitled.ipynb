{
 "cells": [
  {
   "cell_type": "code",
   "execution_count": 22,
   "id": "e6f6f3f7",
   "metadata": {},
   "outputs": [],
   "source": [
    "chat1 = 'codebasics: you ask lot of questions 😠  1235678912, abc@xyz.com'\n",
    "chat2 = 'codebasics: here it is: (123)-567-8912, a66c@xyz.com'\n",
    "chat3 = 'codebasics: yes, phone: 1235678912 email: a_5bc@xyz.com'"
   ]
  },
  {
   "cell_type": "code",
   "execution_count": 5,
   "id": "eec4431f",
   "metadata": {},
   "outputs": [],
   "source": [
    "import re"
   ]
  },
  {
   "cell_type": "markdown",
   "id": "76b2560e",
   "metadata": {},
   "source": [
    "### Retrieve Phone number"
   ]
  },
  {
   "cell_type": "code",
   "execution_count": 6,
   "id": "3f97f0fb",
   "metadata": {},
   "outputs": [
    {
     "data": {
      "text/plain": [
       "['1235678912']"
      ]
     },
     "execution_count": 6,
     "metadata": {},
     "output_type": "execute_result"
    }
   ],
   "source": [
    "pattren = \"\\d{10}\"\n",
    "matches = re.findall(pattren, chat1)\n",
    "matches"
   ]
  },
  {
   "cell_type": "code",
   "execution_count": 9,
   "id": "262ab35c",
   "metadata": {},
   "outputs": [
    {
     "data": {
      "text/plain": [
       "['(123)-567-891']"
      ]
     },
     "execution_count": 9,
     "metadata": {},
     "output_type": "execute_result"
    }
   ],
   "source": [
    "pattern2 = \"\\(\\d{3}\\)-\\d{3}-\\d{3}\"\n",
    "Match = re.findall(pattern2,chat2)\n",
    "Match"
   ]
  },
  {
   "cell_type": "code",
   "execution_count": 15,
   "id": "bbd1432f",
   "metadata": {},
   "outputs": [
    {
     "data": {
      "text/plain": [
       "['(123)-567-891']"
      ]
     },
     "execution_count": 15,
     "metadata": {},
     "output_type": "execute_result"
    }
   ],
   "source": [
    "pattern3 = \"\\d{10}|\\(\\d{3}\\)-\\d{3}-\\d{3}\"   #Alternate :either One or Two  (|)\n",
    "matches1 = re.findall(pattern3, chat2)\n",
    "matches1"
   ]
  },
  {
   "cell_type": "code",
   "execution_count": 14,
   "id": "53ff38e5",
   "metadata": {},
   "outputs": [
    {
     "data": {
      "text/plain": [
       "['1235678912']"
      ]
     },
     "execution_count": 14,
     "metadata": {},
     "output_type": "execute_result"
    }
   ],
   "source": [
    "matches2 = re.findall(pattern3, chat3)\n",
    "matches2"
   ]
  },
  {
   "cell_type": "markdown",
   "id": "c72f7c29",
   "metadata": {},
   "source": [
    "###  Retrieve email id "
   ]
  },
  {
   "cell_type": "code",
   "execution_count": 16,
   "id": "ce758886",
   "metadata": {},
   "outputs": [],
   "source": [
    "mail_pattern = \"[a-zA-Z0-9_]*@[a-z]*\\.[a-zA-Z0-9]*\""
   ]
  },
  {
   "cell_type": "code",
   "execution_count": 26,
   "id": "b7eac6ec",
   "metadata": {},
   "outputs": [
    {
     "data": {
      "text/plain": [
       "['a66c@xyz.com']"
      ]
     },
     "execution_count": 26,
     "metadata": {},
     "output_type": "execute_result"
    }
   ],
   "source": [
    "Email_matches2 = re.findall(mail_pattern, chat2)\n",
    "Email_matches2"
   ]
  },
  {
   "cell_type": "code",
   "execution_count": 25,
   "id": "5709285a",
   "metadata": {},
   "outputs": [
    {
     "data": {
      "text/plain": [
       "['abc@xyz.com']"
      ]
     },
     "execution_count": 25,
     "metadata": {},
     "output_type": "execute_result"
    }
   ],
   "source": [
    "Email_matches1 = re.findall(mail_pattern, chat1)\n",
    "Email_matches1"
   ]
  },
  {
   "cell_type": "code",
   "execution_count": 24,
   "id": "2ecb2128",
   "metadata": {},
   "outputs": [
    {
     "data": {
      "text/plain": [
       "['a_5bc@xyz.com']"
      ]
     },
     "execution_count": 24,
     "metadata": {},
     "output_type": "execute_result"
    }
   ],
   "source": [
    "Email_matches3 = re.findall(mail_pattern, chat3)\n",
    "Email_matches3"
   ]
  },
  {
   "cell_type": "code",
   "execution_count": 30,
   "id": "07fef712",
   "metadata": {},
   "outputs": [],
   "source": [
    "chat_1='codebasics: Hello, I am having an issue with my order # 412889912'\n",
    "chat_2='codebasics: I have a problem with my order number 4128449912'\n",
    "chat_3='codebasics: My order 412880912 is having an issue, I was charged 300$ when online it says 280$'"
   ]
  },
  {
   "cell_type": "code",
   "execution_count": 31,
   "id": "1740e589",
   "metadata": {},
   "outputs": [
    {
     "data": {
      "text/plain": [
       "['412889912']"
      ]
     },
     "execution_count": 31,
     "metadata": {},
     "output_type": "execute_result"
    }
   ],
   "source": [
    "order_pattern = \"order[^\\d]*(\\d*)\"\n",
    "order_match1 = re.findall(order_pattern,chat_1)\n",
    "order_match1"
   ]
  },
  {
   "cell_type": "code",
   "execution_count": 32,
   "id": "43146451",
   "metadata": {},
   "outputs": [
    {
     "data": {
      "text/plain": [
       "['4128449912']"
      ]
     },
     "execution_count": 32,
     "metadata": {},
     "output_type": "execute_result"
    }
   ],
   "source": [
    "order_match2 = re.findall(order_pattern,chat_2)\n",
    "order_match2"
   ]
  },
  {
   "cell_type": "code",
   "execution_count": 33,
   "id": "005fd106",
   "metadata": {},
   "outputs": [
    {
     "data": {
      "text/plain": [
       "['412880912']"
      ]
     },
     "execution_count": 33,
     "metadata": {},
     "output_type": "execute_result"
    }
   ],
   "source": [
    "order_match3 = re.findall(order_pattern,chat_3)\n",
    "order_match3"
   ]
  },
  {
   "cell_type": "markdown",
   "id": "375b550c",
   "metadata": {},
   "source": [
    "### Regex for Information Extraction"
   ]
  },
  {
   "cell_type": "code",
   "execution_count": 34,
   "id": "dbc6972d",
   "metadata": {},
   "outputs": [],
   "source": [
    "text='''\n",
    "Born    Elon Reeve Musk\n",
    "June 28, 1971 (age 50)\n",
    "Pretoria, Transvaal, South Africa\n",
    "Citizenship\n",
    "South Africa (1971–present)\n",
    "Canada (1971–present)\n",
    "United States (2002–present)\n",
    "Education    University of Pennsylvania (BS, BA)\n",
    "Title\n",
    "Founder, CEO and Chief Engineer of SpaceX\n",
    "CEO and product architect of Tesla, Inc.\n",
    "Founder of The Boring Company and X.com (now part of PayPal)\n",
    "Co-founder of Neuralink, OpenAI, and Zip2\n",
    "Spouse(s) \n",
    "Justine Wilson\n",
    "​\n",
    "​(m. 2000; div. 2008)​\n",
    "Talulah Riley\n",
    "​\n",
    "​(m. 2010; div. 2012)​\n",
    "​\n",
    "​(m. 2013; div. 2016)\n",
    "'''"
   ]
  },
  {
   "cell_type": "code",
   "execution_count": 36,
   "id": "15bef09c",
   "metadata": {},
   "outputs": [
    {
     "data": {
      "text/plain": [
       "['50']"
      ]
     },
     "execution_count": 36,
     "metadata": {},
     "output_type": "execute_result"
    }
   ],
   "source": [
    "Pattern_Age = \"age (\\d+)\"\n",
    "Age_match = re.findall(Pattern_Age,text)\n",
    "Age_match"
   ]
  },
  {
   "cell_type": "code",
   "execution_count": 41,
   "id": "5aadf8d9",
   "metadata": {},
   "outputs": [
    {
     "data": {
      "text/plain": [
       "'Elon Reeve Musk'"
      ]
     },
     "execution_count": 41,
     "metadata": {},
     "output_type": "execute_result"
    }
   ],
   "source": [
    "Pattern_Name = \"Born(.*)\\n\"\n",
    "Name_match = re.findall(Pattern_Name,text)\n",
    "Name_match[0].strip()"
   ]
  },
  {
   "cell_type": "code",
   "execution_count": 43,
   "id": "44043abc",
   "metadata": {},
   "outputs": [
    {
     "data": {
      "text/plain": [
       "['June 28, 1971 ']"
      ]
     },
     "execution_count": 43,
     "metadata": {},
     "output_type": "execute_result"
    }
   ],
   "source": [
    "pattern = \"Born.*\\n(.*)\\(age\"\n",
    "Birthdate_match = re.findall(pattern,text)\n",
    "Birthdate_match"
   ]
  },
  {
   "cell_type": "code",
   "execution_count": 45,
   "id": "6e17d9d4",
   "metadata": {},
   "outputs": [
    {
     "data": {
      "text/plain": [
       "'Pretoria, Transvaal, South Africa'"
      ]
     },
     "execution_count": 45,
     "metadata": {},
     "output_type": "execute_result"
    }
   ],
   "source": [
    "pattern_1 = \"\\(age.*\\n(.*)\"\n",
    "match = re.findall(pattern_1,text)\n",
    "match[0]"
   ]
  },
  {
   "cell_type": "code",
   "execution_count": null,
   "id": "f05c60b6",
   "metadata": {},
   "outputs": [],
   "source": []
  }
 ],
 "metadata": {
  "kernelspec": {
   "display_name": "Python 3 (ipykernel)",
   "language": "python",
   "name": "python3"
  },
  "language_info": {
   "codemirror_mode": {
    "name": "ipython",
    "version": 3
   },
   "file_extension": ".py",
   "mimetype": "text/x-python",
   "name": "python",
   "nbconvert_exporter": "python",
   "pygments_lexer": "ipython3",
   "version": "3.9.12"
  }
 },
 "nbformat": 4,
 "nbformat_minor": 5
}
