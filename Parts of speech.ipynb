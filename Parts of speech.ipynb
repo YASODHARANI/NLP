{
 "cells": [
  {
   "cell_type": "code",
   "execution_count": 15,
   "id": "db105870",
   "metadata": {},
   "outputs": [],
   "source": [
    "import spacy"
   ]
  },
  {
   "cell_type": "code",
   "execution_count": 16,
   "id": "6c5c9b95",
   "metadata": {},
   "outputs": [],
   "source": [
    "nlp= spacy.load(\"en_core_web_sm\")"
   ]
  },
  {
   "cell_type": "code",
   "execution_count": 17,
   "id": "77b8e8b6",
   "metadata": {},
   "outputs": [
    {
     "data": {
      "text/plain": [
       "['tok2vec', 'tagger', 'parser', 'attribute_ruler', 'lemmatizer', 'ner']"
      ]
     },
     "execution_count": 17,
     "metadata": {},
     "output_type": "execute_result"
    }
   ],
   "source": [
    "nlp.pipe_names"
   ]
  },
  {
   "cell_type": "code",
   "execution_count": 18,
   "id": "d46f9756",
   "metadata": {},
   "outputs": [
    {
     "name": "stdout",
     "output_type": "stream",
     "text": [
      "Iranian | ADJ adjective\n",
      "president | NOUN noun\n",
      "’s | PART particle\n",
      "warning | NOUN noun\n",
      "comes | VERB verb\n",
      "as | SCONJ subordinating conjunction\n",
      "social | ADJ adjective\n",
      "media | NOUN noun\n",
      "videos | NOUN noun\n",
      "showed | VERB verb\n",
      "protesters | NOUN noun\n",
      "back | ADV adverb\n",
      "on | ADP adposition\n",
      "the | DET determiner\n",
      "streets | NOUN noun\n",
      "despite | SCONJ subordinating conjunction\n",
      "a | DET determiner\n",
      "crackdown | NOUN noun\n",
      "that | PRON pronoun\n",
      "killed | VERB verb\n",
      "at | ADV adverb\n",
      "least | ADV adverb\n",
      "41 | NUM numeral\n",
      "people | NOUN noun\n",
      ". | PUNCT punctuation\n"
     ]
    }
   ],
   "source": [
    "doc = nlp(\"Iranian president’s warning comes as social media videos showed protesters back on the streets despite a crackdown that killed at least 41 people.\")\n",
    "for token in doc:\n",
    "    print(token,\"|\",token.pos_,spacy.explain(token.pos_))\n"
   ]
  },
  {
   "cell_type": "code",
   "execution_count": 19,
   "id": "238a3bc0",
   "metadata": {},
   "outputs": [
    {
     "name": "stdout",
     "output_type": "stream",
     "text": [
      "wow | INTJ | interjection  |  UH  |  interjection\n",
      "! | PUNCT | punctuation  |  .  |  punctuation mark, sentence closer\n",
      "dr | PROPN | proper noun  |  NNP  |  noun, proper singular\n",
      ", | PUNCT | punctuation  |  ,  |  punctuation mark, comma\n",
      "strange | PROPN | proper noun  |  NNP  |  noun, proper singular\n",
      "made | VERB | verb  |  VBD  |  verb, past tense\n",
      "265 | NUM | numeral  |  CD  |  cardinal number\n",
      "million | NUM | numeral  |  CD  |  cardinal number\n",
      "$ | PUNCT | punctuation  |  -RRB-  |  right round bracket\n",
      "on | ADP | adposition  |  IN  |  conjunction, subordinating or preposition\n",
      "the | DET | determiner  |  DT  |  determiner\n",
      "very | ADV | adverb  |  RB  |  adverb\n",
      "first | ADJ | adjective  |  JJ  |  adjective (English), other noun-modifier (Chinese)\n",
      "day | NOUN | noun  |  NN  |  noun, singular or mass\n"
     ]
    }
   ],
   "source": [
    "doc = nlp(\"wow! dr,strange made 265 million $ on the very first day\")\n",
    "for token in doc:\n",
    "    print(token,\"|\",token.pos_, \"|\", spacy.explain(token.pos_), \" | \" , token.tag_,\" | \" , spacy.explain(token.tag_))"
   ]
  },
  {
   "cell_type": "code",
   "execution_count": 28,
   "id": "148d60d4",
   "metadata": {},
   "outputs": [],
   "source": [
    "earnings_text = \"\"\"Microsoft Corp. today announced the following results for the quarter ended December 31, 2021, as compared to the corresponding period of last fiscal year:\n",
    "\n",
    "·         Revenue was $51.7 billion and increased 20%\n",
    "\n",
    "·         Operating income was $22.2 billion and increased 24%\n",
    "\n",
    "·         Net income was $18.8 billion and increased 21%\n",
    "\n",
    "·         Diluted earnings per share was $2.48 and increased 22%\n",
    "\n",
    "“Digital technology is the most malleable resource at the world’s disposal to overcome constraints and reimagine everyday work and life,” said Satya Nadella, chairman and chief executive officer of Microsoft. “As tech as a percentage of global GDP continues to increase, we are innovating and investing across diverse and growing markets, with a common underlying technology stack and an operating model that reinforces a common strategy, culture, and sense of purpose.”\n",
    "\n",
    "“Solid commercial execution, represented by strong bookings growth driven by long-term Azure commitments, increased Microsoft Cloud revenue to $22.1 billion, up 32% year over year” said Amy Hood, executive vice president and chief financial officer of Microsoft.\n",
    " \"\"\""
   ]
  },
  {
   "cell_type": "code",
   "execution_count": 27,
   "id": "5bab71d2",
   "metadata": {},
   "outputs": [
    {
     "ename": "NameError",
     "evalue": "name 'doc1' is not defined",
     "output_type": "error",
     "traceback": [
      "\u001b[1;31m---------------------------------------------------------------------------\u001b[0m",
      "\u001b[1;31mNameError\u001b[0m                                 Traceback (most recent call last)",
      "Input \u001b[1;32mIn [27]\u001b[0m, in \u001b[0;36m<cell line: 1>\u001b[1;34m()\u001b[0m\n\u001b[1;32m----> 1\u001b[0m \u001b[38;5;28;01mfor\u001b[39;00m token \u001b[38;5;129;01min\u001b[39;00m \u001b[43mdoc1\u001b[49m:\n\u001b[0;32m      2\u001b[0m    \u001b[38;5;28;01mif\u001b[39;00m token\u001b[38;5;241m.\u001b[39mpos_ \u001b[38;5;129;01mnot\u001b[39;00m \u001b[38;5;129;01min\u001b[39;00m [\u001b[38;5;124m\"\u001b[39m\u001b[38;5;124mSPACE\u001b[39m\u001b[38;5;124m\"\u001b[39m,\u001b[38;5;124m\"\u001b[39m\u001b[38;5;124mX\u001b[39m\u001b[38;5;124m\"\u001b[39m,\u001b[38;5;124m\"\u001b[39m\u001b[38;5;124mPUNCT\u001b[39m\u001b[38;5;124m\"\u001b[39m]:\n\u001b[0;32m      3\u001b[0m        \u001b[38;5;28mprint\u001b[39m(token, \u001b[38;5;124m\"\u001b[39m\u001b[38;5;124m | \u001b[39m\u001b[38;5;124m\"\u001b[39m, token\u001b[38;5;241m.\u001b[39mpos_,\u001b[38;5;124m\"\u001b[39m\u001b[38;5;124m | \u001b[39m\u001b[38;5;124m\"\u001b[39m,spacy\u001b[38;5;241m.\u001b[39mexplain(token\u001b[38;5;241m.\u001b[39mpos_))\n",
      "\u001b[1;31mNameError\u001b[0m: name 'doc1' is not defined"
     ]
    }
   ],
   "source": [
    " for token in doc1:\n",
    "    if token.pos_ not in [\"SPACE\",\"X\",\"PUNCT\"]:\n",
    "        print(token, \" | \", token.pos_,\" | \",spacy.explain(token.pos_))"
   ]
  },
  {
   "cell_type": "code",
   "execution_count": 32,
   "id": "693ef02a",
   "metadata": {},
   "outputs": [],
   "source": [
    "doc = nlp(earnings_text)\n",
    "filtered_tokens = []\n",
    "\n",
    "for token in doc:\n",
    "    if token.pos_ not in [\"SPACE\",\"X\",\"PUNCT\"]:\n",
    "         filtered_tokens.append(token)"
   ]
  },
  {
   "cell_type": "code",
   "execution_count": 34,
   "id": "96e76d27",
   "metadata": {},
   "outputs": [
    {
     "data": {
      "text/plain": [
       "[Microsoft,\n",
       " Corp.,\n",
       " today,\n",
       " announced,\n",
       " the,\n",
       " following,\n",
       " results,\n",
       " for,\n",
       " the,\n",
       " quarter,\n",
       " ended,\n",
       " December,\n",
       " 31,\n",
       " 2021,\n",
       " as,\n",
       " compared,\n",
       " to,\n",
       " the,\n",
       " corresponding,\n",
       " period]"
      ]
     },
     "execution_count": 34,
     "metadata": {},
     "output_type": "execute_result"
    }
   ],
   "source": [
    "filtered_tokens[:20]  "
   ]
  },
  {
   "cell_type": "code",
   "execution_count": 35,
   "id": "41ed4292",
   "metadata": {},
   "outputs": [
    {
     "data": {
      "text/plain": [
       "{96: 15,\n",
       " 92: 45,\n",
       " 100: 22,\n",
       " 90: 9,\n",
       " 85: 16,\n",
       " 93: 16,\n",
       " 97: 27,\n",
       " 98: 1,\n",
       " 84: 21,\n",
       " 103: 11,\n",
       " 87: 6,\n",
       " 99: 5,\n",
       " 89: 12,\n",
       " 86: 3,\n",
       " 94: 3,\n",
       " 95: 2}"
      ]
     },
     "execution_count": 35,
     "metadata": {},
     "output_type": "execute_result"
    }
   ],
   "source": [
    "Count = doc.count_by(spacy.attrs.POS)\n",
    "Count"
   ]
  },
  {
   "cell_type": "code",
   "execution_count": 39,
   "id": "5132f22a",
   "metadata": {},
   "outputs": [
    {
     "name": "stdout",
     "output_type": "stream",
     "text": [
      "PROPN | 15\n",
      "NOUN | 45\n",
      "VERB | 22\n",
      "DET | 9\n",
      "ADP | 16\n",
      "NUM | 16\n",
      "PUNCT | 27\n",
      "SCONJ | 1\n",
      "ADJ | 21\n",
      "SPACE | 11\n",
      "AUX | 6\n",
      "SYM | 5\n",
      "CCONJ | 12\n",
      "ADV | 3\n",
      "PART | 3\n",
      "PRON | 2\n"
     ]
    }
   ],
   "source": [
    "for k,v in Count.items():\n",
    "    print(doc.vocab[k].text,\"|\",v)"
   ]
  },
  {
   "cell_type": "code",
   "execution_count": null,
   "id": "083a78f9",
   "metadata": {},
   "outputs": [],
   "source": []
  }
 ],
 "metadata": {
  "kernelspec": {
   "display_name": "Python 3 (ipykernel)",
   "language": "python",
   "name": "python3"
  },
  "language_info": {
   "codemirror_mode": {
    "name": "ipython",
    "version": 3
   },
   "file_extension": ".py",
   "mimetype": "text/x-python",
   "name": "python",
   "nbconvert_exporter": "python",
   "pygments_lexer": "ipython3",
   "version": "3.9.12"
  }
 },
 "nbformat": 4,
 "nbformat_minor": 5
}
