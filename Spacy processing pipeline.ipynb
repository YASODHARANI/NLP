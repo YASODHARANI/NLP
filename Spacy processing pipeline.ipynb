{
 "cells": [
  {
   "cell_type": "code",
   "execution_count": 2,
   "id": "a09b4939",
   "metadata": {},
   "outputs": [],
   "source": [
    "import spacy "
   ]
  },
  {
   "cell_type": "code",
   "execution_count": 2,
   "id": "6133d9aa",
   "metadata": {},
   "outputs": [
    {
     "name": "stdout",
     "output_type": "stream",
     "text": [
      "It\n",
      "was\n",
      "established\n",
      "in\n",
      "1992\n",
      "and\n",
      "is\n",
      "administered\n",
      "by\n",
      "the\n",
      "Dr.\n",
      "Ambedkar\n",
      "foundation\n",
      "to\n",
      "people\n",
      "or\n",
      "organizations\n",
      "for\n",
      "their\n",
      "outstanding\n",
      "work\n",
      ".\n",
      "The\n",
      "award\n",
      "symbolizes\n",
      "the\n",
      "vision\n",
      "of\n",
      "Babasaheb\n",
      "Ambedkar\n",
      "for\n",
      "social\n",
      "understanding\n",
      "and\n",
      "national\n",
      "integrity\n",
      ".\n",
      "The\n",
      "money\n",
      "constituent\n",
      "of\n",
      "this\n",
      "award\n",
      "is\n",
      "1\n",
      "million\n",
      "rupees\n",
      "and\n",
      "a\n",
      "citation\n",
      ".\n",
      "$\n"
     ]
    }
   ],
   "source": [
    "nlp = spacy.blank(\"en\")\n",
    "doc = nlp(\"It was established in 1992 and is administered by the Dr. Ambedkar foundation to people or organizations for their outstanding work. The award symbolizes the vision of Babasaheb Ambedkar for social understanding and national integrity. The money constituent of this award is 1 million rupees and a citation. $\")\n",
    "\n",
    "for token in doc:\n",
    "    print(token)"
   ]
  },
  {
   "cell_type": "code",
   "execution_count": 3,
   "id": "fc093226",
   "metadata": {},
   "outputs": [
    {
     "data": {
      "text/plain": [
       "[]"
      ]
     },
     "execution_count": 3,
     "metadata": {},
     "output_type": "execute_result"
    }
   ],
   "source": [
    "nlp.pipe_names"
   ]
  },
  {
   "cell_type": "code",
   "execution_count": 4,
   "id": "c16ed3fe",
   "metadata": {},
   "outputs": [],
   "source": [
    "nlp= spacy.load(\"en_core_web_sm\")"
   ]
  },
  {
   "cell_type": "code",
   "execution_count": 5,
   "id": "c4daff4f",
   "metadata": {},
   "outputs": [
    {
     "data": {
      "text/plain": [
       "[('tok2vec', <spacy.pipeline.tok2vec.Tok2Vec at 0x1cc0b758f40>),\n",
       " ('tagger', <spacy.pipeline.tagger.Tagger at 0x1cc0b758e80>),\n",
       " ('parser', <spacy.pipeline.dep_parser.DependencyParser at 0x1cc0b5b2510>),\n",
       " ('attribute_ruler',\n",
       "  <spacy.pipeline.attributeruler.AttributeRuler at 0x1cc0b7a8200>),\n",
       " ('lemmatizer', <spacy.lang.en.lemmatizer.EnglishLemmatizer at 0x1cc0b73e740>),\n",
       " ('ner', <spacy.pipeline.ner.EntityRecognizer at 0x1cc0b5b2350>)]"
      ]
     },
     "execution_count": 5,
     "metadata": {},
     "output_type": "execute_result"
    }
   ],
   "source": [
    "nlp.pipeline"
   ]
  },
  {
   "cell_type": "code",
   "execution_count": 6,
   "id": "6f71521b",
   "metadata": {},
   "outputs": [
    {
     "data": {
      "text/plain": [
       "['tok2vec', 'tagger', 'parser', 'attribute_ruler', 'lemmatizer', 'ner']"
      ]
     },
     "execution_count": 6,
     "metadata": {},
     "output_type": "execute_result"
    }
   ],
   "source": [
    "nlp.pipe_names"
   ]
  },
  {
   "cell_type": "code",
   "execution_count": 7,
   "id": "ce5bdee3",
   "metadata": {},
   "outputs": [
    {
     "name": "stdout",
     "output_type": "stream",
     "text": [
      "It | PRON | it\n",
      "was | AUX | be\n",
      "established | VERB | establish\n",
      "in | ADP | in\n",
      "1992 | NUM | 1992\n",
      "and | CCONJ | and\n",
      "is | AUX | be\n",
      "administered | VERB | administer\n",
      "by | ADP | by\n",
      "the | DET | the\n",
      "Dr. | PROPN | Dr.\n",
      "Ambedkar | PROPN | Ambedkar\n",
      "foundation | NOUN | foundation\n",
      "to | ADP | to\n",
      "people | NOUN | people\n",
      "or | CCONJ | or\n",
      "organizations | NOUN | organization\n",
      "for | ADP | for\n",
      "their | PRON | their\n",
      "outstanding | ADJ | outstanding\n",
      "work | NOUN | work\n",
      ". | PUNCT | .\n",
      "The | DET | the\n",
      "award | NOUN | award\n",
      "symbolizes | VERB | symbolize\n",
      "the | DET | the\n",
      "vision | NOUN | vision\n",
      "of | ADP | of\n",
      "Babasaheb | PROPN | Babasaheb\n",
      "Ambedkar | PROPN | Ambedkar\n",
      "for | ADP | for\n",
      "social | ADJ | social\n",
      "understanding | NOUN | understanding\n",
      "and | CCONJ | and\n",
      "national | ADJ | national\n",
      "integrity | NOUN | integrity\n",
      ". | PUNCT | .\n",
      "The | DET | the\n",
      "money | NOUN | money\n",
      "constituent | NOUN | constituent\n",
      "of | ADP | of\n",
      "this | DET | this\n",
      "award | NOUN | award\n",
      "is | AUX | be\n",
      "1 | NUM | 1\n",
      "million | NUM | million\n",
      "rupees | NOUN | rupee\n",
      "and | CCONJ | and\n",
      "a | DET | a\n",
      "citation | NOUN | citation\n",
      ". | PUNCT | .\n"
     ]
    }
   ],
   "source": [
    "doc = nlp(\"It was established in 1992 and is administered by the Dr. Ambedkar foundation to people or organizations for their outstanding work. The award symbolizes the vision of Babasaheb Ambedkar for social understanding and national integrity. The money constituent of this award is 1 million rupees and a citation.\")\n",
    "for token in doc:\n",
    "    print(token, \"|\",token.pos_, \"|\",token.lemma_)"
   ]
  },
  {
   "cell_type": "code",
   "execution_count": 8,
   "id": "32589991",
   "metadata": {},
   "outputs": [
    {
     "name": "stdout",
     "output_type": "stream",
     "text": [
      "1992 | DATE | Absolute or relative dates or periods\n",
      "Ambedkar | PERSON | People, including fictional\n",
      "1 million | CARDINAL | Numerals that do not fall under another type\n"
     ]
    }
   ],
   "source": [
    "doc = nlp(\"It was established in 1992 and is administered by the Dr. Ambedkar foundation to people or organizations for their outstanding work. The award symbolizes the vision of Babasaheb Ambedkar for social understanding and national integrity. The money constituent of this award is 1 million rupees and a citation. $\")\n",
    "for ent in doc.ents:\n",
    "    print(ent.text,\"|\",ent.label_, \"|\",spacy.explain(ent.label_))"
   ]
  },
  {
   "cell_type": "code",
   "execution_count": 9,
   "id": "56527326",
   "metadata": {},
   "outputs": [
    {
     "data": {
      "text/html": [
       "<span class=\"tex2jax_ignore\"><div class=\"entities\" style=\"line-height: 2.5; direction: ltr\">It was established in \n",
       "<mark class=\"entity\" style=\"background: #bfe1d9; padding: 0.45em 0.6em; margin: 0 0.25em; line-height: 1; border-radius: 0.35em;\">\n",
       "    1992\n",
       "    <span style=\"font-size: 0.8em; font-weight: bold; line-height: 1; border-radius: 0.35em; vertical-align: middle; margin-left: 0.5rem\">DATE</span>\n",
       "</mark>\n",
       " and is administered by the Dr. \n",
       "<mark class=\"entity\" style=\"background: #aa9cfc; padding: 0.45em 0.6em; margin: 0 0.25em; line-height: 1; border-radius: 0.35em;\">\n",
       "    Ambedkar\n",
       "    <span style=\"font-size: 0.8em; font-weight: bold; line-height: 1; border-radius: 0.35em; vertical-align: middle; margin-left: 0.5rem\">PERSON</span>\n",
       "</mark>\n",
       " foundation to people or organizations for their outstanding work. The award symbolizes the vision of Babasaheb Ambedkar for social understanding and national integrity. The money constituent of this award is \n",
       "<mark class=\"entity\" style=\"background: #e4e7d2; padding: 0.45em 0.6em; margin: 0 0.25em; line-height: 1; border-radius: 0.35em;\">\n",
       "    1 million\n",
       "    <span style=\"font-size: 0.8em; font-weight: bold; line-height: 1; border-radius: 0.35em; vertical-align: middle; margin-left: 0.5rem\">CARDINAL</span>\n",
       "</mark>\n",
       " rupees and a citation. $</div></span>"
      ],
      "text/plain": [
       "<IPython.core.display.HTML object>"
      ]
     },
     "metadata": {},
     "output_type": "display_data"
    }
   ],
   "source": [
    "from spacy import displacy\n",
    "displacy.render(doc,style= \"ent\")"
   ]
  },
  {
   "cell_type": "code",
   "execution_count": 10,
   "id": "7cf7465e",
   "metadata": {},
   "outputs": [
    {
     "data": {
      "text/plain": [
       "['ner']"
      ]
     },
     "execution_count": 10,
     "metadata": {},
     "output_type": "execute_result"
    }
   ],
   "source": [
    "source_nlp = spacy.load(\"en_core_web_sm\")\n",
    "nlp = spacy.blank(\"en\")\n",
    "nlp.add_pipe(\"ner\", source=source_nlp)\n",
    "nlp.pipe_names"
   ]
  },
  {
   "cell_type": "code",
   "execution_count": 12,
   "id": "3d44dfad",
   "metadata": {},
   "outputs": [],
   "source": [
    "doc1 = nlp(\"including a wide array of ingredients, herbs, spices, techniques, and dishes. As cultures have mixed through forces like international trade and globalization, \")\n",
    "for ent in doc1.ents:\n",
    "    print(ent.text,\"|\",ent.label_, \"|\",spacy.explain(ent.label_))"
   ]
  },
  {
   "cell_type": "code",
   "execution_count": 13,
   "id": "6778029f",
   "metadata": {},
   "outputs": [
    {
     "name": "stdout",
     "output_type": "stream",
     "text": [
      "1 million | CARDINAL | Numerals that do not fall under another type\n"
     ]
    }
   ],
   "source": [
    "    print(ent.text,\"|\",ent.label_, \"|\",spacy.explain(ent.label_))"
   ]
  },
  {
   "cell_type": "markdown",
   "id": "61d301cc",
   "metadata": {},
   "source": [
    "###  Stemming & lematization"
   ]
  },
  {
   "cell_type": "code",
   "execution_count": 14,
   "id": "94af2343",
   "metadata": {},
   "outputs": [],
   "source": [
    "import nltk\n",
    "import spacy"
   ]
  },
  {
   "cell_type": "code",
   "execution_count": 16,
   "id": "21210b1b",
   "metadata": {},
   "outputs": [],
   "source": [
    "from nltk.stem import PorterStemmer\n",
    "stemmer = PorterStemmer()"
   ]
  },
  {
   "cell_type": "code",
   "execution_count": 18,
   "id": "fe6e73a7",
   "metadata": {},
   "outputs": [
    {
     "name": "stdout",
     "output_type": "stream",
     "text": [
      "Eating | eat\n",
      "talking | talk\n",
      "talk | talk\n",
      "talked | talk\n",
      "Eats | eat\n",
      "Eat | eat\n",
      "ate | ate\n"
     ]
    }
   ],
   "source": [
    "words = [\"Eating\", \"talking\",\"talk\",\"talked\",\"Eats\",\"Eat\",\"ate\"]\n",
    "for word in words:\n",
    "    print(word, \"|\", stemmer.stem(word))"
   ]
  },
  {
   "cell_type": "code",
   "execution_count": 20,
   "id": "d78e0cc1",
   "metadata": {},
   "outputs": [
    {
     "name": "stdout",
     "output_type": "stream",
     "text": [
      "eating | eating 12092082220177030354\n",
      "eats | eat 9837207709914848172\n",
      "eat | eat 9837207709914848172\n",
      "ate | eat 9837207709914848172\n",
      "adjustable | adjustable 6033511944150694480\n",
      "rafting | raft 7154368781129989833\n",
      "ability | ability 11565809527369121409\n",
      "meeting | meeting 14798207169164081740\n",
      "better | well 4525988469032889948\n"
     ]
    }
   ],
   "source": [
    "nlp = spacy.load(\"en_core_web_sm\")\n",
    "doc = nlp(\"eating eats eat ate adjustable rafting ability meeting better\")\n",
    "for token in doc:\n",
    "    print(token, \"|\", token.lemma_,token.lemma)"
   ]
  },
  {
   "cell_type": "code",
   "execution_count": 23,
   "id": "15c1602a",
   "metadata": {},
   "outputs": [
    {
     "name": "stdout",
     "output_type": "stream",
     "text": [
      "Mando | mando\n",
      "talked | talk\n",
      "for | for\n",
      "3 | 3\n",
      "hours | hour\n",
      "although | although\n",
      "talking | talking\n",
      "is | be\n",
      "n't | not\n",
      "his | his\n",
      "thing | thing\n",
      "he | he\n",
      "become | become\n",
      "talketive | talketive\n"
     ]
    }
   ],
   "source": [
    "doc = nlp(\"Mando talked for 3 hours although talking isn't his thing he become talketive\")\n",
    "for token in doc:\n",
    "    print(token,\"|\",token.lemma_)"
   ]
  },
  {
   "cell_type": "code",
   "execution_count": 24,
   "id": "8c1d46c9",
   "metadata": {},
   "outputs": [
    {
     "data": {
      "text/plain": [
       "['tok2vec', 'tagger', 'parser', 'attribute_ruler', 'lemmatizer', 'ner']"
      ]
     },
     "execution_count": 24,
     "metadata": {},
     "output_type": "execute_result"
    }
   ],
   "source": [
    "nlp.pipe_names"
   ]
  },
  {
   "cell_type": "code",
   "execution_count": 28,
   "id": "add51902",
   "metadata": {},
   "outputs": [
    {
     "name": "stdout",
     "output_type": "stream",
     "text": [
      "Bro | Brother\n",
      ", | ,\n",
      "you | you\n",
      "wanna | wanna\n",
      "go | go\n",
      "? | ?\n",
      "Brah | Brother\n",
      ", | ,\n",
      "do | do\n",
      "n't | not\n",
      "say | say\n",
      "no | no\n",
      "! | !\n",
      "I | I\n",
      "am | be\n",
      "exhausted | exhaust\n"
     ]
    }
   ],
   "source": [
    "# attribute_ruler = attribute to perticuler token we can customize it. \n",
    "ar = nlp.get_pipe(\"attribute_ruler\")\n",
    "ar.add([[{\"TEXT\":\"Bro\"}],[{\"TEXT\":\"Brah\"}]],{\"LEMMA\": \"Brother\"})\n",
    "doc = nlp(\"Bro , you wanna go? Brah, don't say no! I am exhausted\")\n",
    "for token in doc:\n",
    "    print(token.text,\"|\",token.lemma_)"
   ]
  },
  {
   "cell_type": "code",
   "execution_count": 30,
   "id": "36d7b99c",
   "metadata": {},
   "outputs": [
    {
     "data": {
      "text/plain": [
       "Bro"
      ]
     },
     "execution_count": 30,
     "metadata": {},
     "output_type": "execute_result"
    }
   ],
   "source": [
    "doc[0]"
   ]
  },
  {
   "cell_type": "code",
   "execution_count": 29,
   "id": "9dd1fb0a",
   "metadata": {},
   "outputs": [
    {
     "data": {
      "text/plain": [
       "'Brother'"
      ]
     },
     "execution_count": 29,
     "metadata": {},
     "output_type": "execute_result"
    }
   ],
   "source": [
    "doc[0].lemma_"
   ]
  },
  {
   "cell_type": "markdown",
   "id": "d595ff0b",
   "metadata": {},
   "source": [
    "###  POS tagging"
   ]
  },
  {
   "cell_type": "code",
   "execution_count": 4,
   "id": "d5d392c8",
   "metadata": {},
   "outputs": [
    {
     "name": "stdout",
     "output_type": "stream",
     "text": [
      "It | PRON\n",
      "was | AUX\n",
      "established | VERB\n",
      "in | ADP\n",
      "1992 | NUM\n",
      "and | CCONJ\n",
      "is | AUX\n",
      "administered | VERB\n",
      "by | ADP\n",
      "the | DET\n",
      "Dr. | PROPN\n",
      "Ambedkar | PROPN\n",
      "foundation | NOUN\n",
      "to | ADP\n",
      "people | NOUN\n",
      "or | CCONJ\n",
      "organizations | NOUN\n",
      "for | ADP\n",
      "their | PRON\n",
      "outstanding | ADJ\n",
      "work | NOUN\n",
      ". | PUNCT\n",
      "The | DET\n",
      "award | NOUN\n",
      "symbolizes | VERB\n",
      "the | DET\n",
      "vision | NOUN\n",
      "of | ADP\n",
      "Babasaheb | PROPN\n",
      "Ambedkar | PROPN\n",
      "for | ADP\n",
      "social | ADJ\n",
      "understanding | NOUN\n",
      "and | CCONJ\n",
      "national | ADJ\n",
      "integrity | NOUN\n",
      ". | PUNCT\n",
      "The | DET\n",
      "money | NOUN\n",
      "constituent | NOUN\n",
      "of | ADP\n",
      "this | DET\n",
      "award | NOUN\n",
      "is | AUX\n",
      "1 | NUM\n",
      "million | NUM\n",
      "rupees | NOUN\n",
      "and | CCONJ\n",
      "a | DET\n",
      "citation | NOUN\n",
      ". | PUNCT\n",
      "$ | SYM\n"
     ]
    }
   ],
   "source": [
    "nlp = spacy.load(\"en_core_web_sm\")\n",
    "doc = nlp(\"It was established in 1992 and is administered by the Dr. Ambedkar foundation to people or organizations for their outstanding work. The award symbolizes the vision of Babasaheb Ambedkar for social understanding and national integrity. The money constituent of this award is 1 million rupees and a citation. $\")\n",
    "\n",
    "for token in doc:\n",
    "    print(token,\"|\",token.pos_)"
   ]
  },
  {
   "cell_type": "code",
   "execution_count": null,
   "id": "9d579604",
   "metadata": {},
   "outputs": [],
   "source": []
  }
 ],
 "metadata": {
  "kernelspec": {
   "display_name": "Python 3 (ipykernel)",
   "language": "python",
   "name": "python3"
  },
  "language_info": {
   "codemirror_mode": {
    "name": "ipython",
    "version": 3
   },
   "file_extension": ".py",
   "mimetype": "text/x-python",
   "name": "python",
   "nbconvert_exporter": "python",
   "pygments_lexer": "ipython3",
   "version": "3.9.12"
  }
 },
 "nbformat": 4,
 "nbformat_minor": 5
}
